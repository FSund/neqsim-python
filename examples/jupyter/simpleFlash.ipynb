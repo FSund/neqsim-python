{
 "cells": [
  {
   "cell_type": "markdown",
   "metadata": {},
   "source": [
    "## Example of how to use NeqSim for oil and gas processing\n"
   ]
  },
  {
   "cell_type": "code",
   "execution_count": 2,
   "metadata": {},
   "outputs": [
    {
     "ename": "ModuleNotFoundError",
     "evalue": "No module named 'jpype'",
     "output_type": "error",
     "traceback": [
      "\u001b[0;31m---------------------------------------------------------------------------\u001b[0m",
      "\u001b[0;31mModuleNotFoundError\u001b[0m                       Traceback (most recent call last)",
      "\u001b[1;32m/workspaces/neqsimpython/examples/jupyter/simpleFlash.ipynb Cell 2'\u001b[0m in \u001b[0;36m<cell line: 2>\u001b[0;34m()\u001b[0m\n\u001b[1;32m      <a href='vscode-notebook-cell://codespaces%2Bevensol-equinor-neqsimpython-94x64v6q3954g/workspaces/neqsimpython/examples/jupyter/simpleFlash.ipynb#ch0000001vscode-remote?line=0'>1</a>\u001b[0m \u001b[39mimport\u001b[39;00m \u001b[39mneqsim\u001b[39;00m\n\u001b[0;32m----> <a href='vscode-notebook-cell://codespaces%2Bevensol-equinor-neqsimpython-94x64v6q3954g/workspaces/neqsimpython/examples/jupyter/simpleFlash.ipynb#ch0000001vscode-remote?line=1'>2</a>\u001b[0m \u001b[39mfrom\u001b[39;00m \u001b[39mneqsim\u001b[39;00m\u001b[39m.\u001b[39;00m\u001b[39mthermo\u001b[39;00m\u001b[39m.\u001b[39;00m\u001b[39mthermoTools\u001b[39;00m \u001b[39mimport\u001b[39;00m \u001b[39m*\u001b[39m\n\u001b[1;32m      <a href='vscode-notebook-cell://codespaces%2Bevensol-equinor-neqsimpython-94x64v6q3954g/workspaces/neqsimpython/examples/jupyter/simpleFlash.ipynb#ch0000001vscode-remote?line=2'>3</a>\u001b[0m \u001b[39mfrom\u001b[39;00m \u001b[39mneqsim\u001b[39;00m\u001b[39m.\u001b[39;00m\u001b[39mprocess\u001b[39;00m\u001b[39m.\u001b[39;00m\u001b[39mprocessTools\u001b[39;00m \u001b[39mimport\u001b[39;00m \u001b[39m*\u001b[39m\n",
      "File \u001b[0;32m/workspaces/neqsimpython/neqsim/thermo/__init__.py:1\u001b[0m, in \u001b[0;36m<module>\u001b[0;34m\u001b[0m\n\u001b[0;32m----> <a href='file:///workspaces/neqsimpython/neqsim/thermo/__init__.py?line=0'>1</a>\u001b[0m \u001b[39mfrom\u001b[39;00m \u001b[39m.\u001b[39;00m\u001b[39mthermoTools\u001b[39;00m \u001b[39mimport\u001b[39;00m \u001b[39m*\u001b[39m\n",
      "File \u001b[0;32m/workspaces/neqsimpython/neqsim/thermo/thermoTools.py:1\u001b[0m, in \u001b[0;36m<module>\u001b[0;34m\u001b[0m\n\u001b[0;32m----> <a href='file:///workspaces/neqsimpython/neqsim/thermo/thermoTools.py?line=0'>1</a>\u001b[0m \u001b[39mimport\u001b[39;00m \u001b[39mjpype\u001b[39;00m\n\u001b[1;32m      <a href='file:///workspaces/neqsimpython/neqsim/thermo/thermoTools.py?line=1'>2</a>\u001b[0m \u001b[39mimport\u001b[39;00m \u001b[39mpandas\u001b[39;00m\n\u001b[1;32m      <a href='file:///workspaces/neqsimpython/neqsim/thermo/thermoTools.py?line=2'>3</a>\u001b[0m \u001b[39mfrom\u001b[39;00m \u001b[39mjpype\u001b[39;00m\u001b[39m.\u001b[39;00m\u001b[39mtypes\u001b[39;00m \u001b[39mimport\u001b[39;00m \u001b[39m*\u001b[39m\n",
      "\u001b[0;31mModuleNotFoundError\u001b[0m: No module named 'jpype'"
     ]
    }
   ],
   "source": [
    "import neqsim\n",
    "from neqsim.thermo.thermoTools import *\n",
    "from neqsim.process.processTools import *"
   ]
  },
  {
   "cell_type": "markdown",
   "metadata": {},
   "source": [
    "1. Create a well stream for a typical gas-condesate well stream"
   ]
  },
  {
   "cell_type": "code",
   "execution_count": 2,
   "metadata": {},
   "outputs": [
    {
     "name": "stdout",
     "output_type": "stream",
     "text": [
      "                         total         oil                   \n",
      "             water  4.39785E-3  4.39785E-3    [mole fraction]\n",
      "          nitrogen  7.09893E-4  7.09893E-4    [mole fraction]\n",
      "               CO2  1.00456E-2  1.00456E-2    [mole fraction]\n",
      "           methane  1.72078E-1  1.72078E-1    [mole fraction]\n",
      "            ethane  8.05144E-2  8.05144E-2    [mole fraction]\n",
      "           propane  8.95376E-2  8.95376E-2    [mole fraction]\n",
      "          i-butane  8.88836E-2  8.88836E-2    [mole fraction]\n",
      "          n-butane  7.27659E-2  7.27659E-2    [mole fraction]\n",
      "         i-pentane  5.56419E-2  5.56419E-2    [mole fraction]\n",
      "         n-pentane  6.23861E-2  6.23861E-2    [mole fraction]\n",
      "             C6_PC  1.56711E-1  1.56711E-1    [mole fraction]\n",
      "             C7_PC  6.18607E-2  6.18607E-2    [mole fraction]\n",
      "             C8_PC  5.39536E-2  5.39536E-2    [mole fraction]\n",
      "             C9_PC  6.94317E-2  6.94317E-2    [mole fraction]\n",
      "            C10_PC  2.10817E-2  2.10817E-2    [mole fraction]\n",
      "                                                             \n",
      "           Density               6.03969E2           [kg/m^3]\n",
      "     PhaseFraction                     1E0    [mole fraction]\n",
      "         MolarMass   6.77873E1   6.77873E1          [kg/kmol]\n",
      "          Z factor              2.45511E-1                [-]\n",
      "Heat Capacity (Cp)               2.47443E0          [kJ/kg*K]\n",
      "Heat Capacity (Cv)               1.93545E0          [kJ/kg*K]\n",
      "    Speed of Sound               7.04037E2            [m/sec]\n",
      "          Enthalpy  -2.71505E2  -2.71505E2            [kJ/kg]\n",
      "           Entropy -6.54047E-1 -6.54047E-1          [kJ/kg*K]\n",
      "    JT coefficient             -2.35673E-2            [K/bar]\n",
      "                                                             \n",
      "         Viscosity              1.71553E-4         [kg/m*sec]\n",
      "      Conductivity               9.4728E-2            [W/m*K]\n",
      "    SurfaceTension                                      [N/m]\n",
      "                                                             \n",
      "                                                             \n",
      "                                                             \n",
      "          Pressure                    55.0              [bar]\n",
      "       Temperature                  328.15                [K]\n",
      "                                                             \n",
      "             Model                 SRK-EOS                  -\n",
      "       Mixing Rule                 classic                  -\n",
      "                                                             \n",
      "            Stream                                          -\n",
      "                                                             \n",
      "                                                             \n",
      "                                                             \n",
      "                                                             \n"
     ]
    }
   ],
   "source": [
    "fluid1 = fluid('srk')\n",
    "fluid1.addComponent('water', 2.7)\n",
    "fluid1.addComponent('nitrogen', 0.7)\n",
    "fluid1.addComponent('CO2', 2.1)\n",
    "fluid1.addComponent('methane', 70.0)\n",
    "fluid1.addComponent('ethane', 10.0)\n",
    "fluid1.addComponent('propane', 5.0)\n",
    "fluid1.addComponent('i-butane', 3.0)\n",
    "fluid1.addComponent('n-butane', 2.0)\n",
    "fluid1.addComponent('i-pentane', 1.0)\n",
    "fluid1.addComponent('n-pentane', 1.0)\n",
    "fluid1.addTBPfraction('C6', 1.49985, 86.3 / 1000.0, 0.7432) #adding oil component mol/ molar mass (kg/mol) / relative density (gr/gr)\n",
    "fluid1.addTBPfraction('C7', 0.49985, 103.3 / 1000.0, 0.76432)\n",
    "fluid1.addTBPfraction('C8', 0.39985, 125.0 / 1000.0, 0.78432)\n",
    "fluid1.addTBPfraction('C9', 0.49985, 145.0 / 1000.0, 0.79432)\n",
    "fluid1.addTBPfraction('C10', 0.149985, 165.0 / 1000.0, 0.81)\n",
    "fluid1.setMixingRule('classic')\n",
    "fluid1.setMultiPhaseCheck(True)\n",
    "\n",
    "fluid1.setTemperature(55.0, 'C')\n",
    "fluid1.setPressure(55.0, 'bara')\n",
    "TPflash(fluid1)\n",
    "\n",
    "clearProcess()\n",
    "feedStream = stream(fluid1,\"feed fluid\")\n",
    "separator1 = separator3phase(feedStream)\n",
    "oilstream1 = separator1.getLiquidOutStream()\n",
    "valve1 = valve(oilstream1,10.0, 'valv1')\n",
    "runProcess()\n",
    "\n",
    "printFrame(oilstream1.getFluid())"
   ]
  }
 ],
 "metadata": {
  "interpreter": {
   "hash": "31f2aee4e71d21fbe5cf8b01ff0e069b9275f58929596ceb00d14d90e3e16cd6"
  },
  "kernelspec": {
   "display_name": "Python 3.9.2 64-bit",
   "language": "python",
   "name": "python3"
  },
  "language_info": {
   "codemirror_mode": {
    "name": "ipython",
    "version": 3
   },
   "file_extension": ".py",
   "mimetype": "text/x-python",
   "name": "python",
   "nbconvert_exporter": "python",
   "pygments_lexer": "ipython3",
   "version": "3.9.2"
  }
 },
 "nbformat": 4,
 "nbformat_minor": 2
}
